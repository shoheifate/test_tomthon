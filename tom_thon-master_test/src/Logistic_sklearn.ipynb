{
 "cells": [
  {
   "cell_type": "code",
   "execution_count": 30,
   "metadata": {},
   "outputs": [],
   "source": [
    "#https://qiita.com/0NE_shoT_/items/b702ab482466df6e5569\n",
    "#教科書\n",
    "\n",
    "from sklearn import datasets\n",
    "import pandas as pd\n",
    "df = pd.read_csv('isigaki_miyako_iriomote_wavedata/isigaki_test.csv', header=None)\n",
    "\n",
    "import numpy as np\n",
    "from sklearn.preprocessing import LabelEncoder\n",
    "#データのロード\n",
    "X = df.loc[:, [1,4]].values\n",
    "#print(X)\n",
    "y = df.loc[:, 0].values"
   ]
  },
  {
   "cell_type": "code",
   "execution_count": 31,
   "metadata": {},
   "outputs": [
    {
     "name": "stdout",
     "output_type": "stream",
     "text": [
      "Labels counts in y[0 1]: [4723   25]\n",
      "Labels counts in y_train[0 1]: [3778   20]\n",
      "Labels counts in y_test[0 1]: [945   5]\n"
     ]
    }
   ],
   "source": [
    "#データの分割（テスト用とトレーニング用）\n",
    "from sklearn.model_selection import train_test_split\n",
    "\n",
    "X_train, X_test, y_train, y_test = train_test_split(\n",
    "    X, y, test_size=0.2, random_state=1, stratify=y)\n",
    "print('Labels counts in y[0 1]:', np.bincount(y))\n",
    "print('Labels counts in y_train[0 1]:', np.bincount(y_train))\n",
    "print('Labels counts in y_test[0 1]:', np.bincount(y_test))"
   ]
  },
  {
   "cell_type": "code",
   "execution_count": 32,
   "metadata": {},
   "outputs": [
    {
     "name": "stdout",
     "output_type": "stream",
     "text": [
      "[[-0.77081914  1.38505558]\n",
      " [-1.06589257  2.52798994]\n",
      " [-0.52492461  1.52792238]\n",
      " ...\n",
      " [-0.57410352 -1.00081989]\n",
      " [ 0.55701132 -1.12940001]\n",
      " [-0.37738789  0.9564552 ]]\n"
     ]
    }
   ],
   "source": [
    "#標準化\n",
    "from sklearn.preprocessing import StandardScaler\n",
    "\n",
    "sc = StandardScaler()\n",
    "sc.fit(X_train)\n",
    "X_train_std = sc.transform(X_train)\n",
    "X_test_std = sc.transform(X_test)\n",
    "print(X_train_std)"
   ]
  },
  {
   "cell_type": "code",
   "execution_count": 33,
   "metadata": {},
   "outputs": [
    {
     "name": "stdout",
     "output_type": "stream",
     "text": [
      "[[4.9  2.1 ]\n",
      " [4.9  1.9 ]\n",
      " [3.6  1.55]\n",
      " ...\n",
      " [6.2  9.5 ]\n",
      " [6.1  9.  ]\n",
      " [5.4  9.  ]]\n"
     ]
    }
   ],
   "source": [
    "#pca\n",
    "from sklearn.decomposition import PCA\n",
    "pca = PCA(n_components=2)\n",
    "X_train_pca = pca.fit_transform(X_train_std)\n",
    "X_test_pca = pca.transform(X_test_std)\n",
    "print(X)"
   ]
  },
  {
   "cell_type": "code",
   "execution_count": 34,
   "metadata": {},
   "outputs": [],
   "source": [
    "#グラフをプロットするための関数\n",
    "from matplotlib.colors import ListedColormap\n",
    "import matplotlib.pyplot as plt\n",
    "\n",
    "\n",
    "def plot_decision_regions(X, y, classifier, test_idx=None, resolution=0.02):\n",
    "\n",
    "    # setup marker generator and color map\n",
    "    markers = ('s', 'x', 'o', '^', 'v')\n",
    "    colors = ('red', 'blue', 'lightgreen', 'gray', 'cyan')\n",
    "    cmap = ListedColormap(colors[:len(np.unique(y))])\n",
    "\n",
    "    # plot the decision surface\n",
    "    x1_min, x1_max = X[:, 0].min() - 1, X[:, 0].max() + 1\n",
    "    x2_min, x2_max = X[:, 1].min() - 1, X[:, 1].max() + 1\n",
    "    xx1, xx2 = np.meshgrid(np.arange(x1_min, x1_max, resolution),\n",
    "                           np.arange(x2_min, x2_max, resolution))\n",
    "    Z = classifier.predict(np.array([xx1.ravel(), xx2.ravel()]).T)\n",
    "    Z = Z.reshape(xx1.shape)\n",
    "    plt.contourf(xx1, xx2, Z, alpha=0.3, cmap=cmap)\n",
    "    plt.xlim(xx1.min(), xx1.max())\n",
    "    plt.ylim(xx2.min(), xx2.max())\n",
    "\n",
    "    for idx, cl in enumerate(np.unique(y)):\n",
    "        plt.scatter(x=X[y == cl, 0], \n",
    "                    y=X[y == cl, 1],\n",
    "                    alpha=0.8, \n",
    "                    c=colors[idx],\n",
    "                    marker=markers[idx], \n",
    "                    label=cl, \n",
    "                    edgecolor='black')\n",
    "\n",
    "    # highlight test samples\n",
    "    if test_idx:\n",
    "        # plot all samples\n",
    "        X_test, y_test = X[test_idx, :], y[test_idx]\n",
    "\n",
    "        plt.scatter(X_test[:, 0],\n",
    "                    X_test[:, 1],\n",
    "                    c='',\n",
    "                    edgecolor='black',\n",
    "                    alpha=1.0,\n",
    "                    linewidth=1,\n",
    "                    marker='o',\n",
    "                    s=100, \n",
    "                    label='test set')"
   ]
  },
  {
   "cell_type": "code",
   "execution_count": 35,
   "metadata": {},
   "outputs": [
    {
     "data": {
      "text/plain": [
       "LogisticRegression(C=11, class_weight=None, dual=False, fit_intercept=True,\n",
       "          intercept_scaling=1, max_iter=100, multi_class='ovr', n_jobs=1,\n",
       "          penalty='l2', random_state=None, solver='liblinear', tol=0.0001,\n",
       "          verbose=0, warm_start=False)"
      ]
     },
     "execution_count": 35,
     "metadata": {},
     "output_type": "execute_result"
    }
   ],
   "source": [
    "#Scikit-learnによるロジスティック回帰\n",
    "from sklearn.linear_model import LogisticRegression\n",
    "lr = LogisticRegression(C=11) # ロジスティック回帰モデルのインスタンスを作成\n",
    "lr.fit(X_train_std, y_train) # ロジスティック回帰モデルの重みを学習"
   ]
  },
  {
   "cell_type": "code",
   "execution_count": 36,
   "metadata": {},
   "outputs": [],
   "source": [
    "#モデルの保存\n",
    "import pickle\n",
    "import os\n",
    "dest = os.path.join('classifier','pkl-objects')#パスの結合\n",
    "if not os.path.exists(dest):\n",
    "    os.makedirs(dest)\n",
    "pickle.dump(lr,\n",
    "            open(os.path.join(dest,'Logistic.pkl'),\n",
    "            'wb'))#'classifier/pkl-objects/ensemble.pklで保存)"
   ]
  },
  {
   "cell_type": "code",
   "execution_count": 37,
   "metadata": {},
   "outputs": [
    {
     "data": {
      "image/png": "[encoded data removed]",
      "text/plain": [
       "<matplotlib.figure.Figure at 0x1a1748fac8>"
      ]
     },
     "metadata": {},
     "output_type": "display_data"
    }
   ],
   "source": [
    "#ロジスティック回帰の結果のプロット（波の高さと風速の二つの特徴量のみ）\n",
    "X_combined_std = np.vstack((X_train_std, X_test_std))#結合しているのはテストデータをランダムに取得したため\n",
    "y_combined = np.hstack((y_train, y_test))\n",
    "\n",
    "plot_decision_regions(X=X_combined_std, y=y_combined,\n",
    "                      classifier=lr, test_idx=range(3798, 4748))#test_idx=range(105, 150)はテストデータの開始行数から終了行数まで\n",
    "plt.xlabel('wind speed [standardized]')\n",
    "plt.ylabel('Wave height [standardized]')\n",
    "plt.legend(loc='upper left')\n",
    "\n",
    "plt.tight_layout()\n",
    "#plt.savefig('images/03_01.png', dpi=300)\n",
    "plt.show()"
   ]
  },
  {
   "cell_type": "code",
   "execution_count": 38,
   "metadata": {},
   "outputs": [
    {
     "name": "stdout",
     "output_type": "stream",
     "text": [
      "Test Accuracy: 1.000\n"
     ]
    }
   ],
   "source": [
    "#パイプラインの作成\n",
    "from sklearn.preprocessing import StandardScaler\n",
    "from sklearn.decomposition import PCA\n",
    "#from sklearn.linear_model import LogisticRegression\n",
    "from sklearn.pipeline import make_pipeline\n",
    "\n",
    "pipe_lr = make_pipeline(StandardScaler(),\n",
    "                        #PCA(n_components=2),\n",
    "                        LogisticRegression(C=10))\n",
    "\n",
    "pipe_lr.fit(X_train, y_train)\n",
    "y_pred = pipe_lr.predict(X_test)\n",
    "print('Test Accuracy: %.3f' % pipe_lr.score(X_test, y_test))"
   ]
  },
  {
   "cell_type": "code",
   "execution_count": 39,
   "metadata": {},
   "outputs": [
    {
     "name": "stdout",
     "output_type": "stream",
     "text": [
      "Fold:  1, Class dist.: [3400   18], Acc: 1.00000\n",
      "Fold:  2, Class dist.: [3400   18], Acc: 1.00000\n",
      "Fold:  3, Class dist.: [3400   18], Acc: 0.99737\n",
      "Fold:  4, Class dist.: [3400   18], Acc: 1.00000\n",
      "Fold:  5, Class dist.: [3400   18], Acc: 1.00000\n",
      "Fold:  6, Class dist.: [3400   18], Acc: 1.00000\n",
      "Fold:  7, Class dist.: [3400   18], Acc: 1.00000\n",
      "Fold:  8, Class dist.: [3400   18], Acc: 1.00000\n",
      "Fold:  9, Class dist.: [3401   18], Acc: 1.00000\n",
      "Fold: 10, Class dist.: [3401   18], Acc: 1.00000\n",
      "\n",
      "CV accuracy: 0.99974 +/- 0.00079\n"
     ]
    }
   ],
   "source": [
    "#K分割交差検証\n",
    "import numpy as np\n",
    "from sklearn.model_selection import StratifiedKFold\n",
    "    \n",
    "\n",
    "kfold = StratifiedKFold(n_splits=10,\n",
    "                        random_state=1).split(X_train_pca, y_train)\n",
    "\n",
    "scores = []\n",
    "for k, (train, test) in enumerate(kfold):\n",
    "    pipe_lr.fit(X_train_pca[train], y_train[train])\n",
    "    score = pipe_lr.score(X_train_pca[test], y_train[test])\n",
    "    scores.append(score)\n",
    "    print('Fold: %2d, Class dist.: %s, Acc: %.5f' % (k+1,\n",
    "          np.bincount(y_train[train]), score))\n",
    "    \n",
    "print('\\nCV accuracy: %.5f +/- %.5f' % (np.mean(scores), np.std(scores)))"
   ]
  },
  {
   "cell_type": "code",
   "execution_count": 40,
   "metadata": {},
   "outputs": [
    {
     "name": "stdout",
     "output_type": "stream",
     "text": [
      "CV accuracy scores: [1.         1.         0.99736842 1.         1.         1.\n",
      " 1.         1.         1.         1.        ]\n",
      "CV accuracy: 1.000 +/- 0.001\n"
     ]
    }
   ],
   "source": [
    "#交差検証でのモデルの正解率\n",
    "from sklearn.model_selection import cross_val_score\n",
    "\n",
    "scores = cross_val_score(estimator=pipe_lr,\n",
    "                         X=X_train,\n",
    "                         y=y_train,\n",
    "                         cv=10,\n",
    "                         n_jobs=-1)\n",
    "print('CV accuracy scores: %s' % scores)\n",
    "print('CV accuracy: %.3f +/- %.3f' % (np.mean(scores), np.std(scores)))"
   ]
  },
  {
   "cell_type": "code",
   "execution_count": 41,
   "metadata": {},
   "outputs": [
    {
     "name": "stdout",
     "output_type": "stream",
     "text": [
      "[[945   0]\n",
      " [  0   5]]\n"
     ]
    },
    {
     "data": {
      "image/png": "[encoded data removed]",
      "text/plain": [
       "<matplotlib.figure.Figure at 0x1a1903e7b8>"
      ]
     },
     "metadata": {},
     "output_type": "display_data"
    }
   ],
   "source": [
    "#混同行列\n",
    "from sklearn.metrics import confusion_matrix\n",
    "\n",
    "pipe_lr.fit(X_train, y_train)\n",
    "y_pred = pipe_lr.predict(X_test)\n",
    "confmat = confusion_matrix(y_true=y_test, y_pred=y_pred)\n",
    "print(confmat)\n",
    "\n",
    "fig, ax = plt.subplots(figsize=(2.5, 2.5))\n",
    "ax.matshow(confmat, cmap=plt.cm.Blues, alpha=0.3)\n",
    "for i in range(confmat.shape[0]):\n",
    "    for j in range(confmat.shape[1]):\n",
    "        ax.text(x=j, y=i, s=confmat[i, j], va='center', ha='center')\n",
    "\n",
    "plt.xlabel('Predicted label')\n",
    "plt.ylabel('True label')\n",
    "\n",
    "plt.tight_layout()\n",
    "#plt.savefig('images/06_09.png', dpi=300)\n",
    "plt.show()"
   ]
  },
  {
   "cell_type": "code",
   "execution_count": 42,
   "metadata": {},
   "outputs": [
    {
     "name": "stdout",
     "output_type": "stream",
     "text": [
      "Precision: 1.000\n",
      "Recall: 1.000\n",
      "F1: 1.000\n"
     ]
    }
   ],
   "source": [
    "#適合率、再現率、F1スコア\n",
    "from sklearn.metrics import precision_score, recall_score, f1_score\n",
    "\n",
    "print('Precision: %.3f' % precision_score(y_true=y_test, y_pred=y_pred))\n",
    "print('Recall: %.3f' % recall_score(y_true=y_test, y_pred=y_pred))\n",
    "print('F1: %.3f' % f1_score(y_true=y_test, y_pred=y_pred))"
   ]
  },
  {
   "cell_type": "code",
   "execution_count": 43,
   "metadata": {},
   "outputs": [
    {
     "name": "stdout",
     "output_type": "stream",
     "text": [
      "[[19.1   8.8 ]\n",
      " [16.4   7.05]\n",
      " [15.3   5.95]\n",
      " [ 2.2   1.7 ]\n",
      " [ 5.1   2.35]\n",
      " [14.1   6.2 ]]\n",
      "[[ 6.80273237  1.04217528]\n",
      " [ 5.47490191  0.54214149]\n",
      " [ 4.93393394  0.22783455]\n",
      " [-1.50850273 -0.98653321]\n",
      " [-0.08231446 -0.80080638]\n",
      " [ 4.34378707  0.29926794]]\n",
      "データのクラス\n",
      "[1 1 1 0 0 0]\n",
      "lrモデルによるデータのクラス予想\n",
      "[1 1 1 0 0 0]\n",
      "データそれぞれに対するクラス[0 1]の所属解率\n",
      "[[1.36070756e-02 9.86392924e-01]\n",
      " [1.90672250e-01 8.09327750e-01]\n",
      " [4.15664471e-01 5.84335529e-01]\n",
      " [9.99999158e-01 8.41623231e-07]\n",
      " [9.99979138e-01 2.08617710e-05]\n",
      " [7.41990906e-01 2.58009094e-01]]\n"
     ]
    },
    {
     "data": {
      "image/png": "[encoded data removed]",
      "text/plain": [
       "<matplotlib.figure.Figure at 0x1a18fc0d68>"
      ]
     },
     "metadata": {},
     "output_type": "display_data"
    }
   ],
   "source": [
    "df1 = pd.read_csv('isigaki_miyako_iriomote_wavedata/test_1.csv', header=None)\n",
    "X1 = df1.loc[:, [1,4]].values\n",
    "#print(X)\n",
    "y1 = df1.loc[:, 0].values\n",
    "#X_train, X_test, y_train, y_test = train_test_split(X,y, test_size=0.02, random_state=0)\n",
    "print(X1)\n",
    "X1_train_std = sc.transform(X1)\n",
    "X1_train_pca = pca.fit_transform(X1_train_std)\n",
    "predict = lr.predict(X1_train_std)\n",
    "predict_proba = lr.predict_proba(X1_train_std)\n",
    "print(X1_train_std)\n",
    "\n",
    "#データに対する予測確率\n",
    "print('データのクラス')\n",
    "print(y1)\n",
    "print('lrモデルによるデータのクラス予想')\n",
    "print(predict)\n",
    "print('データそれぞれに対するクラス[0 1]の所属解率')\n",
    "print(predict_proba)\n",
    "\n",
    "plt.figure(1)\n",
    "#plot_data(X1_train_std, y1)\n",
    "\n",
    "\n",
    "plot_decision_regions(X=X1_train_std, y=y1,\n",
    "                      classifier=lr, test_idx=range(3, 6))#test_idx=range(105, 150)はテストデータの開始行数から終了行数まで\n",
    "plt.xlabel('wind speed [standardized]')\n",
    "plt.ylabel('Wave height [standardized]')\n",
    "plt.legend(loc='upper left')\n",
    "\n",
    "plt.tight_layout()\n",
    "#plt.savefig('images/03_01.png', dpi=300)\n",
    "plt.show()"
   ]
  },
  {
   "cell_type": "code",
   "execution_count": 44,
   "metadata": {},
   "outputs": [],
   "source": [
    "#モデルの保存\n",
    "import pickle\n",
    "import os\n",
    "dest = os.path.join('classifier','pkl-objects')#パスの結合\n",
    "if not os.path.exists(dest):\n",
    "    os.makedirs(dest)\n",
    "pickle.dump(lr,\n",
    "            open(os.path.join(dest,'Logistic.pkl'),\n",
    "            'wb'))#'classifier/pkl-objects/ensemble.pklで保存)"
   ]
  }
 ],
 "metadata": {
  "kernelspec": {
   "display_name": "Python 3",
   "language": "python",
   "name": "python3"
  },
  "language_info": {
   "codemirror_mode": {
    "name": "ipython",
    "version": 3
   },
   "file_extension": ".py",
   "mimetype": "text/x-python",
   "name": "python",
   "nbconvert_exporter": "python",
   "pygments_lexer": "ipython3",
   "version": "3.6.4"
  }
 },
 "nbformat": 4,
 "nbformat_minor": 2
}
