{
 "cells": [
  {
   "cell_type": "code",
   "execution_count": 23,
   "metadata": {},
   "outputs": [
    {
     "name": "stdout",
     "output_type": "stream",
     "text": [
      "index: int64\n",
      "column: object\n",
      "使用したオブジェクト RandomForestClassifier(bootstrap=True, class_weight=None, criterion='gini',\n",
      "            max_depth=None, max_features='auto', max_leaf_nodes=None,\n",
      "            min_impurity_decrease=0.0, min_impurity_split=None,\n",
      "            min_samples_leaf=1, min_samples_split=2,\n",
      "            min_weight_fraction_leaf=0.0, n_estimators=25, n_jobs=2,\n",
      "            oob_score=False, random_state=1, verbose=0, warm_start=False)\n",
      "[1 1 1 0 0 0]\n",
      "[1 1 1 0 0 0]\n",
      "[[0.   1.  ]\n",
      " [0.04 0.96]\n",
      " [0.12 0.88]\n",
      " [1.   0.  ]\n",
      " [1.   0.  ]\n",
      " [1.   0.  ]]\n",
      "(array([1, 1, 1, 0, 0, 0]), array([[0.  , 1.  ],\n",
      "       [0.04, 0.96],\n",
      "       [0.12, 0.88],\n",
      "       [1.  , 0.  ],\n",
      "       [1.  , 0.  ],\n",
      "       [1.  , 0.  ]]))\n"
     ]
    }
   ],
   "source": [
    "#データの前処理を忘れてはいけない！！！！！！\n",
    "from flask import Flask, render_template, request\n",
    "#from wtforms import Form, TextAreaField, validators\n",
    "import pickle\n",
    "import sqlite3\n",
    "import os\n",
    "import numpy as np\n",
    "import pandas as pd\n",
    "from pathlib import Path\n",
    "from sklearn.preprocessing import StandardScaler\n",
    "\n",
    "app = Flask(__name__)\n",
    "\n",
    "######## Preparing the Classifier\n",
    "cur_dir = os.path.dirname(Path().resolve())  #現在のこのファイルの絶対パス？\n",
    "#print(cur_dir)\n",
    "lr = pickle.load(open(os.path.join('classifier','pkl-objects','Logistic.pkl'), mode='rb'))  #lrモデルのロード\n",
    "knc = pickle.load(open(os.path.join('classifier','pkl-objects','Near_K.pkl'), mode='rb'))  #kncモデルのロード\n",
    "svm = pickle.load(open(os.path.join('classifier','pkl-objects','SVM.pkl'), mode='rb'))  #svmモデルのロード\n",
    "forest = pickle.load(open(os.path.join('classifier','pkl-objects','random_forest.pkl'), mode='rb'))  #random_forestモデルのロード\n",
    "#clf = pickle.load(open(os.path.join(cur_dir,'Cancellation_forecast','classifier','pkl_objects','Logistic.pkl'),'rb'))\n",
    "#db = os.path.join(cur_dir,'databases','reviews.sqlite')\n",
    "#print(lr)\n",
    "\n",
    "dest = 'databases'\n",
    "\n",
    "#dbname1の作成理由として新しく取得するデータは標準化という前処理が必要なのでそのために全データを使用し標準化する\n",
    "dbname = os.path.join(dest,'isigaki_test.db')#6つのデータ\n",
    "dbname1 = os.path.join(dest,'TEST.db')       #全てのデータ\n",
    "conn = sqlite3.connect(dbname)               #データベースを表すコネクションオブジェクトの作成\n",
    "conn1 = sqlite3.connect(dbname1)\n",
    "cur = conn.cursor()                          #コネクションオブジェクトに対して全行の取得\n",
    "cur1 = conn1.cursor()\n",
    "\n",
    "# dbをpandasで読み出す。\n",
    "df = pd.read_sql('SELECT * FROM sample', conn)\n",
    "df1= pd.read_sql('SELECT * FROM sample', conn1)\n",
    "\n",
    "#print(df)\n",
    "\n",
    "cur.close()\n",
    "#conn = close()\n",
    "df=df[df.columns[df.columns != 'index']]      #index列の削除\n",
    "df1=df1[df1.columns[df1.columns != 'index']]\n",
    "#print(df)\n",
    "#print(df1)\n",
    "#df.head()\n",
    "#df1.head()\n",
    "print(\"index:\",df.index.dtype)                #indexのタイプ確認（行）\n",
    "print(\"column:\",df.columns.dtype)             #columnsのタイプ確認（列）\n",
    "\n",
    "#df = df.rename(columns={c:int(c) for c in df.columns})\n",
    "\n",
    "X1 = df1.loc[:,['wind_speed','wave_height']].values   #X1に説明変数のwind_speedとwave_heightを代入\n",
    "#Y1 = df1.loc[:, 'label'].values\n",
    "#print(X1)\n",
    "sc = StandardScaler()                         #標準化のオブジェクト\n",
    "sc.fit(X1)                                    #全データを使用した標準化\n",
    "\n",
    "\n",
    "def classify(model):#分類結果を返す関数\n",
    "    X = df.loc[:,['wind_speed','wave_height']].values  #Xに説明変数のwind_speedとwave_heightを代入\n",
    "    Y = df.loc[:, 'label'].values  #Yに真のクラスラベルを代入\n",
    "    X_std = sc.transform(X)        #データの標準化（前処理）\n",
    "    #print(X_std)\n",
    "    print(\"使用したオブジェクト\",model)\n",
    "    print(Y)                       #真のクラスラベルの表示\n",
    "    y = model.predict(X_std)         #クラスラベルの予測\n",
    "    print(y)                       #予測したクラスラベルの表示\n",
    "    proba = model.predict_proba(X_std)  #クラスの予測確率\n",
    "    print(proba)                   #予測確率の表示\n",
    "    return y, proba                #戻り値として予測したラベル、確率を返す\n",
    "\n",
    "print(classify(forest))"
   ]
  },
  {
   "cell_type": "code",
   "execution_count": 7,
   "metadata": {},
   "outputs": [
    {
     "ename": "NameError",
     "evalue": "name 'classify' is not defined",
     "output_type": "error",
     "traceback": [
      "\u001b[0;31m---------------------------------------------------------------------------\u001b[0m",
      "\u001b[0;31mNameError\u001b[0m                                 Traceback (most recent call last)",
      "\u001b[0;32m<ipython-input-7-d5b2a7e96fea>\u001b[0m in \u001b[0;36m<module>\u001b[0;34m()\u001b[0m\n\u001b[0;32m----> 1\u001b[0;31m \u001b[0mprint\u001b[0m\u001b[0;34m(\u001b[0m\u001b[0mclassify\u001b[0m\u001b[0;34m(\u001b[0m\u001b[0mdf\u001b[0m\u001b[0;34m)\u001b[0m\u001b[0;34m)\u001b[0m\u001b[0;34m\u001b[0m\u001b[0m\n\u001b[0m",
      "\u001b[0;31mNameError\u001b[0m: name 'classify' is not defined"
     ]
    }
   ],
   "source": [
    "#print(classify(df))"
   ]
  },
  {
   "cell_type": "code",
   "execution_count": null,
   "metadata": {},
   "outputs": [],
   "source": []
  },
  {
   "cell_type": "code",
   "execution_count": null,
   "metadata": {},
   "outputs": [],
   "source": []
  }
 ],
 "metadata": {
  "kernelspec": {
   "display_name": "Python 3",
   "language": "python",
   "name": "python3"
  },
  "language_info": {
   "codemirror_mode": {
    "name": "ipython",
    "version": 3
   },
   "file_extension": ".py",
   "mimetype": "text/x-python",
   "name": "python",
   "nbconvert_exporter": "python",
   "pygments_lexer": "ipython3",
   "version": "3.6.4"
  }
 },
 "nbformat": 4,
 "nbformat_minor": 2
}
